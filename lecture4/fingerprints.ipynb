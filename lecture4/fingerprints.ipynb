{
 "cells": [
  {
   "cell_type": "markdown",
   "metadata": {},
   "source": [
    "# Fingerprints basic\n",
    " \n",
    "{{ badge }}"
   ]
  },
  {
   "cell_type": "markdown",
   "metadata": {},
   "source": [
    "### Fingerprints for text\n",
    "\n",
    "One-hot encoder to fingerprint words"
   ]
  },
  {
   "cell_type": "code",
   "execution_count": 1,
   "metadata": {},
   "outputs": [
    {
      "cell_type": "markdown",
      "metadata": {},
      "source": [
        "# Fingerprints\n",
        " \n",
        "<!--<badge>--><a href=\"https://colab.research.google.com/github/kuennethgroup/colab_tutorials/blob/main/lecture4/fingerprints.ipynb\" target=\"_parent\"><img src=\"https://colab.research.google.com/assets/colab-badge.svg\" alt=\"Open In Colab\"/></a><!--</badge>-->"
      ]
    },
    {
      "cell_type": "markdown",
      "metadata": {},
      "source": [
        "### Fingerprints for text\n",
        "\n",
        "One-hot encoder to fingerprint words"
      ]
    },
    {
      "cell_type": "code",
      "execution_count": 1,
      "metadata": {},
      "outputs": [
        {
          "data": {
            "text/html": [
              "<div>\n",
              "<style scoped>\n",
              "    .dataframe tbody tr th:only-of-type {\n",
              "        vertical-align: middle;\n",
              "    }\n",
              "\n",
              "    .dataframe tbody tr th {\n",
              "        vertical-align: top;\n",
              "    }\n",
              "\n",
              "    .dataframe thead th {\n",
              "        text-align: right;\n",
              "    }\n",
              "</style>\n",
              "<table border=\"1\" class=\"dataframe\">\n",
              "  <thead>\n",
              "    <tr style=\"text-align: right;\">\n",
              "      <th></th>\n",
              "      <th>word</th>\n",
              "    </tr>\n",
              "  </thead>\n",
              "  <tbody>\n",
              "    <tr>\n",
              "      <th>0</th>\n",
              "      <td>horse</td>\n",
              "    </tr>\n",
              "    <tr>\n",
              "      <th>1</th>\n",
              "      <td>rabbit</td>\n",
              "    </tr>\n",
              "    <tr>\n",
              "      <th>2</th>\n",
              "      <td>giraffe</td>\n",
              "    </tr>\n",
              "    <tr>\n",
              "      <th>3</th>\n",
              "      <td>horse</td>\n",
              "    </tr>\n",
              "    <tr>\n",
              "      <th>4</th>\n",
              "      <td>rabbit</td>\n",
              "    </tr>\n",
              "  </tbody>\n",
              "</table>\n",
              "</div>"
            ],
            "text/plain": [
              "      word\n",
              "0    horse\n",
              "1   rabbit\n",
              "2  giraffe\n",
              "3    horse\n",
              "4   rabbit"
            ]
          },
          "metadata": {},
          "output_type": "display_data"
        },
        {
          "data": {
            "text/html": [
              "<div>\n",
              "<style scoped>\n",
              "    .dataframe tbody tr th:only-of-type {\n",
              "        vertical-align: middle;\n",
              "    }\n",
              "\n",
              "    .dataframe tbody tr th {\n",
              "        vertical-align: top;\n",
              "    }\n",
              "\n",
              "    .dataframe thead th {\n",
              "        text-align: right;\n",
              "    }\n",
              "</style>\n",
              "<table border=\"1\" class=\"dataframe\">\n",
              "  <thead>\n",
              "    <tr style=\"text-align: right;\">\n",
              "      <th></th>\n",
              "      <th>word</th>\n",
              "      <th>fps</th>\n",
              "    </tr>\n",
              "  </thead>\n",
              "  <tbody>\n",
              "    <tr>\n",
              "      <th>0</th>\n",
              "      <td>horse</td>\n",
              "      <td>[0.0, 1.0, 0.0]</td>\n",
              "    </tr>\n",
              "    <tr>\n",
              "      <th>1</th>\n",
              "      <td>rabbit</td>\n",
              "      <td>[0.0, 0.0, 1.0]</td>\n",
              "    </tr>\n",
              "    <tr>\n",
              "      <th>2</th>\n",
              "      <td>giraffe</td>\n",
              "      <td>[1.0, 0.0, 0.0]</td>\n",
              "    </tr>\n",
              "    <tr>\n",
              "      <th>3</th>\n",
              "      <td>horse</td>\n",
              "      <td>[0.0, 1.0, 0.0]</td>\n",
              "    </tr>\n",
              "    <tr>\n",
              "      <th>4</th>\n",
              "      <td>rabbit</td>\n",
              "      <td>[0.0, 0.0, 1.0]</td>\n",
              "    </tr>\n",
              "  </tbody>\n",
              "</table>\n",
              "</div>"
            ],
            "text/plain": [
              "      word              fps\n",
              "0    horse  [0.0, 1.0, 0.0]\n",
              "1   rabbit  [0.0, 0.0, 1.0]\n",
              "2  giraffe  [1.0, 0.0, 0.0]\n",
              "3    horse  [0.0, 1.0, 0.0]\n",
              "4   rabbit  [0.0, 0.0, 1.0]"
            ]
          },
          "execution_count": 1,
          "metadata": {},
          "output_type": "execute_result"
        }
      ],
      "source": [
        "from sklearn.preprocessing import OneHotEncoder\n",
        "import pandas as pd\n",
        "\n",
        "enc = OneHotEncoder()\n",
        "words = [\"horse\", \"rabbit\", \"giraffe\", \"horse\", \"rabbit\"]\n",
        "df = pd.DataFrame(words, columns=[\"word\"])\n",
        "display(df)\n",
        "\n",
        "encoding = enc.fit_transform(df).toarray()\n",
        "df[\"fps\"] = encoding.tolist()\n",
        "df"
      ]
    },
    {
      "cell_type": "code",
      "execution_count": 11,
      "metadata": {},
      "outputs": [
        {
          "data": {
            "text/plain": [
              "array([[1., 0., 0., 1., 0.],\n",
              "       [0., 1., 0., 0., 1.],\n",
              "       [0., 0., 1., 0., 0.],\n",
              "       [1., 0., 0., 1., 0.],\n",
              "       [0., 1., 0., 0., 1.]])"
            ]
          },
          "execution_count": 11,
          "metadata": {},
          "output_type": "execute_result"
        }
      ],
      "source": [
        "from sklearn.metrics.pairwise import cosine_similarity\n",
        "import numpy as np\n",
        "\n",
        "cosine_similarity(np.vstack(df[\"fps\"]))"
      ]
    },
    {
      "cell_type": "markdown",
      "metadata": {},
      "source": [
        "Fingerprint of text by counting letters"
      ]
    },
    {
      "cell_type": "code",
      "execution_count": 3,
      "metadata": {},
      "outputs": [
        {
          "name": "stdout",
          "output_type": "stream",
          "text": [
            "Fingerprints\n"
          ]
        },
        {
          "data": {
            "text/plain": [
              "[{'h': 1, 'o': 1, 'r': 1, 's': 1, 'e': 1},\n",
              " {'r': 1, 'a': 1, 'b': 2, 'i': 1, 't': 1},\n",
              " {'g': 1, 'i': 1, 'r': 1, 'a': 1, 'f': 2, 'e': 1},\n",
              " {'h': 1, 'o': 1, 'r': 1, 's': 1, 'e': 1},\n",
              " {'r': 1, 'a': 1, 'b': 2, 'i': 1, 't': 1}]"
            ]
          },
          "execution_count": 3,
          "metadata": {},
          "output_type": "execute_result"
        }
      ],
      "source": [
        "# Function to count letters in a sentence\n",
        "def letter_count(s):\n",
        "    d = {}  # dict to return\n",
        "    for i in s:  # iterate characters\n",
        "        d[i] = d.get(i, 0) + 1\n",
        "    return d\n",
        "\n",
        "\n",
        "words = [\"horse\", \"rabbit\", \"giraffe\", \"horse\", \"rabbit\"]\n",
        "print(\"Fingerprints\")\n",
        "[letter_count(xx) for xx in words]"
      ]
    },
    {
      "cell_type": "markdown",
      "metadata": {},
      "source": [
        "### Fingerprints for chemical structures"
      ]
    },
    {
      "cell_type": "code",
      "execution_count": 4,
      "metadata": {},
      "outputs": [
        {
          "name": "stdout",
          "output_type": "stream",
          "text": [
            "C(c1ccccc1)(C[*])[*]\n"
          ]
        },
        {
          "data": {
            "image/png": "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",
            "text/plain": [
              "<psmiles.psmiles.PolymerSmiles at 0x7f4c40140940>"
            ]
          },
          "execution_count": 4,
          "metadata": {},
          "output_type": "execute_result"
        }
      ],
      "source": [
        "# Install a pip package directly from GitHub is also possible with the following command\n",
        "#!pip install 'psmiles[polyBERT]@git+https://github.com/Ramprasad-Group/psmiles.git'\n",
        "\n",
        "from psmiles import PolymerSmiles as PS\n",
        "\n",
        "# PSMILES string of polystyrene\n",
        "polystyrene = \"C(c1ccccc1)(C[*])[*]\"\n",
        "ps = PS(polystyrene)\n",
        "ps"
      ]
    },
    {
      "cell_type": "code",
      "execution_count": 5,
      "metadata": {},
      "outputs": [
        {
          "data": {
            "text/plain": [
              "array([0, 1, 0, ..., 0, 0, 0])"
            ]
          },
          "execution_count": 5,
          "metadata": {},
          "output_type": "execute_result"
        }
      ],
      "source": [
        "# Fingerprint of PS\n",
        "ps.fingerprint()"
      ]
    },
    {
      "cell_type": "code",
      "execution_count": 6,
      "metadata": {},
      "outputs": [
        {
          "data": {
            "text/html": [
              "<div>\n",
              "<style scoped>\n",
              "    .dataframe tbody tr th:only-of-type {\n",
              "        vertical-align: middle;\n",
              "    }\n",
              "\n",
              "    .dataframe tbody tr th {\n",
              "        vertical-align: top;\n",
              "    }\n",
              "\n",
              "    .dataframe thead th {\n",
              "        text-align: right;\n",
              "    }\n",
              "</style>\n",
              "<table border=\"1\" class=\"dataframe\">\n",
              "  <thead>\n",
              "    <tr style=\"text-align: right;\">\n",
              "      <th></th>\n",
              "      <th>psmiles</th>\n",
              "      <th>fps</th>\n",
              "    </tr>\n",
              "  </thead>\n",
              "  <tbody>\n",
              "    <tr>\n",
              "      <th>0</th>\n",
              "      <td>*CC*</td>\n",
              "      <td>[0, 0, 0, 0, 0, 0, 0, 0, 0, 0, 0, 0, 0, 0, 0, ...</td>\n",
              "    </tr>\n",
              "    <tr>\n",
              "      <th>1</th>\n",
              "      <td>*CCO*</td>\n",
              "      <td>[0, 0, 0, 0, 0, 0, 0, 0, 0, 0, 0, 0, 0, 0, 0, ...</td>\n",
              "    </tr>\n",
              "    <tr>\n",
              "      <th>2</th>\n",
              "      <td>*CC(C)*</td>\n",
              "      <td>[0, 1, 0, 0, 0, 0, 0, 0, 0, 0, 0, 0, 0, 0, 0, ...</td>\n",
              "    </tr>\n",
              "  </tbody>\n",
              "</table>\n",
              "</div>"
            ],
            "text/plain": [
              "   psmiles                                                fps\n",
              "0     *CC*  [0, 0, 0, 0, 0, 0, 0, 0, 0, 0, 0, 0, 0, 0, 0, ...\n",
              "1    *CCO*  [0, 0, 0, 0, 0, 0, 0, 0, 0, 0, 0, 0, 0, 0, 0, ...\n",
              "2  *CC(C)*  [0, 1, 0, 0, 0, 0, 0, 0, 0, 0, 0, 0, 0, 0, 0, ..."
            ]
          },
          "execution_count": 6,
          "metadata": {},
          "output_type": "execute_result"
        }
      ],
      "source": [
        "import pandas as pd\n",
        "\n",
        "# Let's get the FPs of many polymers in a loop\n",
        "psmiles_strings = [\n",
        "    \"*CC*\",\n",
        "    \"*CCO*\",\n",
        "    \"*CC(C)*\",\n",
        "]\n",
        "\n",
        "df_sm = pd.DataFrame(psmiles_strings, columns=[\"psmiles\"])\n",
        "\n",
        "# The .apply function applies a function element-wise (here to the column `psmiles`)\n",
        "df_sm[\"fps\"] = df_sm[\"psmiles\"].apply(lambda x: PS(x).fingerprint())\n",
        "df_sm"
      ]
    },
    {
      "cell_type": "markdown",
      "metadata": {},
      "source": [
        "### Measure similarity using fingerprints"
      ]
    },
    {
      "cell_type": "code",
      "execution_count": 8,
      "metadata": {},
      "outputs": [
        {
          "data": {
            "text/html": [
              "<div>\n",
              "<style scoped>\n",
              "    .dataframe tbody tr th:only-of-type {\n",
              "        vertical-align: middle;\n",
              "    }\n",
              "\n",
              "    .dataframe tbody tr th {\n",
              "        vertical-align: top;\n",
              "    }\n",
              "\n",
              "    .dataframe thead th {\n",
              "        text-align: right;\n",
              "    }\n",
              "</style>\n",
              "<table border=\"1\" class=\"dataframe\">\n",
              "  <thead>\n",
              "    <tr style=\"text-align: right;\">\n",
              "      <th>psmiles</th>\n",
              "      <th>*CC*</th>\n",
              "      <th>*CCO*</th>\n",
              "      <th>*CC(C)*</th>\n",
              "    </tr>\n",
              "    <tr>\n",
              "      <th>psmiles</th>\n",
              "      <th></th>\n",
              "      <th></th>\n",
              "      <th></th>\n",
              "    </tr>\n",
              "  </thead>\n",
              "  <tbody>\n",
              "    <tr>\n",
              "      <th>*CC*</th>\n",
              "      <td>0.000000</td>\n",
              "      <td>3.605551</td>\n",
              "      <td>3.000000</td>\n",
              "    </tr>\n",
              "    <tr>\n",
              "      <th>*CCO*</th>\n",
              "      <td>3.605551</td>\n",
              "      <td>0.000000</td>\n",
              "      <td>4.472136</td>\n",
              "    </tr>\n",
              "    <tr>\n",
              "      <th>*CC(C)*</th>\n",
              "      <td>3.000000</td>\n",
              "      <td>4.472136</td>\n",
              "      <td>0.000000</td>\n",
              "    </tr>\n",
              "  </tbody>\n",
              "</table>\n",
              "</div>"
            ],
            "text/plain": [
              "psmiles      *CC*     *CCO*   *CC(C)*\n",
              "psmiles                              \n",
              "*CC*     0.000000  3.605551  3.000000\n",
              "*CCO*    3.605551  0.000000  4.472136\n",
              "*CC(C)*  3.000000  4.472136  0.000000"
            ]
          },
          "execution_count": 8,
          "metadata": {},
          "output_type": "execute_result"
        }
      ],
      "source": [
        "# Yeah, sklearn again! We use the pairwise_distance\n",
        "from sklearn.metrics.pairwise import pairwise_distances\n",
        "import numpy as np\n",
        "\n",
        "# Use `euclidean` distance d = sqrt((p1-q1)**2 + (p2-q2)**2 + ...)\n",
        "dists = pairwise_distances(np.vstack(df_sm[\"fps\"]), metric=\"euclidean\")\n",
        "\n",
        "pd.DataFrame(dists, columns=df_sm[\"psmiles\"], index=df_sm[\"psmiles\"])"
      ]
    }
  ],
  "metadata": {
    "kernelspec": {
      "display_name": "Python 3",
      "language": "python",
      "name": "python3"
    },
    "language_info": {
      "codemirror_mode": {
        "name": "ipython",
        "version": 3
      },
      "file_extension": ".py",
      "mimetype": "text/x-python",
      "name": "python",
      "nbconvert_exporter": "python",
      "pygments_lexer": "ipython3",
      "version": "3.10.12"
    }
  },
  "nbformat": 4,
  "nbformat_minor": 2
}
{
  "cells": [
    {
      "cell_type": "markdown",
      "metadata": {},
      "source": [
        "# Find out how good you are at Python"
      ]
    },
    {
      "cell_type": "markdown",
      "metadata": {},
      "source": [
        "<!--<badge>--><a href=\"https://colab.research.google.com/github/kuennethgroup/colab_tutorials/blob/main/lecture1/evaluate_python_skills_solution.ipynb\" target=\"_parent\"><img src=\"https://colab.research.google.com/assets/colab-badge.svg\" alt=\"Open In Colab\"/></a><!--</badge>-->"
      ]
    },
    {
      "cell_type": "markdown",
      "metadata": {},
      "source": [
        "### Question\n",
        "Add two lists of string and count the words in the concatenated list\n",
        "\n",
        "l1 = ['hello', 'I', 'am', 'John', 'I', 'live']\n",
        "\n",
        "l2 = ['hello', 'John', 'How', 'are' , 'you', '?', 'I', 'am', 'fine']"
      ]
    },
    {
      "cell_type": "code",
      "execution_count": 16,
      "metadata": {},
      "outputs": [
        {
          "data": {
            "text/plain": [
              "I        3\n",
              "hello    2\n",
              "am       2\n",
              "John     2\n",
              "live     1\n",
              "How      1\n",
              "are      1\n",
              "you      1\n",
              "?        1\n",
              "fine     1\n",
              "Name: count, dtype: int64"
            ]
          },
          "execution_count": 16,
          "metadata": {},
          "output_type": "execute_result"
        }
      ],
      "source": [
        "import pandas as pd\n",
        "\n",
        "l1 = [\"hello\", \"I\", \"am\", \"John\", \"I\", \"live\"]\n",
        "\n",
        "l2 = [\"hello\", \"John\", \"How\", \"are\", \"you\", \"?\", \"I\", \"am\", \"fine\"]\n",
        "\n",
        "pd.value_counts(l1 + l2)"
      ]
    },
    {
      "cell_type": "markdown",
      "metadata": {},
      "source": [
        "### Question\n",
        "Define a function that adds two numbers\n",
        "Also please include a simple test case of the function"
      ]
    },
    {
      "cell_type": "code",
      "execution_count": 14,
      "metadata": {},
      "outputs": [
        {
          "data": {
            "text/plain": [
              "11.2"
            ]
          },
          "execution_count": 14,
          "metadata": {},
          "output_type": "execute_result"
        }
      ],
      "source": [
        "def add_two_numbers(a, b):\n",
        "    return a + b\n",
        "\n",
        "\n",
        "add_two_numbers(10, 1.2)"
      ]
    },
    {
      "cell_type": "markdown",
      "metadata": {},
      "source": [
        "### Question\n",
        "Use matplotlib to create a subplot with two plots (left and right)\n",
        "Draw a 45-degree line from 0 to 10 in the left subplot\n",
        "Draw a circle to the right plot\n",
        "Enforce equal axis (x and y are equally sized)\n",
        "\n",
        "Hints: \n",
        "- use `plt.subplots` fro subplots creation\n",
        "\n"
      ]
    },
    {
      "cell_type": "code",
      "execution_count": 13,
      "metadata": {},
      "outputs": [
        {
          "data": {
            "text/plain": [
              "(-3.298414108507033,\n",
              " 3.2999244813574777,\n",
              " -3.2995846213237874,\n",
              " 3.2995846213237874)"
            ]
          },
          "execution_count": 13,
          "metadata": {},
          "output_type": "execute_result"
        },
        {
          "data": {
            "image/png": "[encoded data removed]",
            "text/plain": [
              "<Figure size 640x480 with 2 Axes>"
            ]
          },
          "metadata": {},
          "output_type": "display_data"
        }
      ],
      "source": [
        "import numpy as np\n",
        "import matplotlib.pyplot as plt\n",
        "\n",
        "fig, (ax1, ax2) = plt.subplots(\n",
        "    1,\n",
        "    2,\n",
        ")\n",
        "\n",
        "ax1.plot(list(range(10)), list(range(10)))\n",
        "ax1.axis(\"equal\")\n",
        "\n",
        "an = np.linspace(0, 2 * np.pi, 100)\n",
        "\n",
        "# compute x1 and x2\n",
        "ax2.plot(3 * np.cos(an), 3 * np.sin(an))\n",
        "ax2.axis(\"equal\")"
      ]
    },
    {
      "cell_type": "markdown",
      "metadata": {},
      "source": [
        "### Question\n",
        "Use numpy to execute a matrix multiplication of 3x3 matrix"
      ]
    },
    {
      "cell_type": "code",
      "execution_count": 19,
      "metadata": {},
      "outputs": [
        {
          "data": {
            "text/plain": [
              "array([[ 0,  1,  4],\n",
              "       [ 9, 16, 25],\n",
              "       [36, 49, 64]])"
            ]
          },
          "execution_count": 19,
          "metadata": {},
          "output_type": "execute_result"
        }
      ],
      "source": [
        "import numpy as np\n",
        "\n",
        "a = np.arange(9).reshape((3, 3))\n",
        "a * a"
      ]
    },
    {
      "cell_type": "markdown",
      "metadata": {},
      "source": [
        "### Question\n",
        "Define a function that iterates over a list of string (['A', 'B', 'C', 'D'])\n",
        "and computes the sum of the integer Unicode code point value.\n",
        "\n",
        "Hint: use ord('A') to compute the integer Unicode code point value\n",
        "\n",
        "Also please include a simple test case of the function\n"
      ]
    },
    {
      "cell_type": "code",
      "execution_count": 17,
      "metadata": {},
      "outputs": [
        {
          "data": {
            "text/plain": [
              "131"
            ]
          },
          "execution_count": 17,
          "metadata": {},
          "output_type": "execute_result"
        }
      ],
      "source": [
        "\n",
        "def sum_ord(l):\n",
        "    return sum(map(ord, l))\n",
        "\n",
        "sum_ord([\"A\", \"B\"])"
      ]
    },
    {
      "cell_type": "markdown",
      "metadata": {},
      "source": [
        "### Question\n",
        "Define a class which has at least two methods:\n",
        "- print_string: to print the string in upper case.\n",
        "- modify_string: modify the string\n",
        "Please include a simple test function to test the class methods.\n",
        "\n",
        "Hints: Use the `__init__` method to construct some parameters"
      ]
    },
    {
      "cell_type": "code",
      "execution_count": 7,
      "metadata": {},
      "outputs": [
        {
          "name": "stdout",
          "output_type": "stream",
          "text": [
            "AA\n",
            "BB\n"
          ]
        }
      ],
      "source": [
        "\n",
        "\n",
        "\n",
        "class InputOutString:\n",
        "    def __init__(self, s):\n",
        "        self.s = s\n",
        "\n",
        "    def print_string(self):\n",
        "        print(self.s.upper())\n",
        "\n",
        "    def modify_string(self, s):\n",
        "        self.s = s\n",
        "\n",
        "\n",
        "strObj = InputOutString(\"aa\")\n",
        "strObj.print_string()\n",
        "strObj.modify_string(\"bb\")\n",
        "strObj.print_string()"
      ]
    }
  ],
  "metadata": {
    "kernelspec": {
      "display_name": "Python 3",
      "language": "python",
      "name": "python3"
    },
    "language_info": {
      "codemirror_mode": {
        "name": "ipython",
        "version": 3
      },
      "file_extension": ".py",
      "mimetype": "text/x-python",
      "name": "python",
      "nbconvert_exporter": "python",
      "pygments_lexer": "ipython3",
      "version": "3.10.12"
    }
  },
  "nbformat": 4,
  "nbformat_minor": 2
}
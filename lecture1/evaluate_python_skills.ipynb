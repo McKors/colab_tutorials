{
  "cells": [
    {
      "cell_type": "markdown",
      "metadata": {},
      "source": [
        "# Find out how good you are at Python"
      ]
    },
    {
      "cell_type": "markdown",
      "metadata": {},
      "source": [
        "<!--<badge>--><a href=\"https://colab.research.google.com/github/kuennethgroup/colab_tutorials/blob/main/lecture1/evaluate_python_skills.ipynb\" target=\"_parent\"><img src=\"https://colab.research.google.com/assets/colab-badge.svg\" alt=\"Open In Colab\"/></a><!--</badge>-->"
      ]
    },
    {
      "cell_type": "markdown",
      "metadata": {},
      "source": [
        "### Question\n",
        "Add two lists of string and count the words in the concatenated list\n",
        "\n",
        "l1 = ['hello', 'I', 'am', 'John', 'I', 'live']\n",
        "\n",
        "l2 = ['hello', 'John', 'How', 'are' , 'you', '?', 'I', 'am', 'fine']"
      ]
    },
    {
      "cell_type": "code",
      "execution_count": null,
      "metadata": {},
      "outputs": [],
      "source": []
    },
    {
      "cell_type": "markdown",
      "metadata": {},
      "source": [
        "### Question\n",
        "Define a function that adds two numbers\n",
        "Also please include a simple test case of the function"
      ]
    },
    {
      "cell_type": "code",
      "execution_count": null,
      "metadata": {},
      "outputs": [],
      "source": []
    },
    {
      "cell_type": "markdown",
      "metadata": {},
      "source": [
        "### Question\n",
        "Use matplotlib to create a subplot with two plots (left and right)\n",
        "Draw a 45-degree line from 0 to 10 in the left subplot\n",
        "Draw a circle to the right plot\n",
        "Enforce equal axis (x and y are equally sized)\n",
        "\n",
        "Hints: \n",
        "- use `plt.subplots` fro subplots creation\n",
        "\n"
      ]
    },
    {
      "cell_type": "code",
      "execution_count": null,
      "metadata": {},
      "outputs": [],
      "source": []
    },
    {
      "cell_type": "markdown",
      "metadata": {},
      "source": [
        "### Question\n",
        "Use numpy to execute a matrix multiplication of 3x3 matrix"
      ]
    },
    {
      "cell_type": "code",
      "execution_count": null,
      "metadata": {},
      "outputs": [],
      "source": []
    },
    {
      "cell_type": "markdown",
      "metadata": {},
      "source": [
        "### Question\n",
        "Define a function that iterates over a list of string (['A', 'B', 'C', 'D'])\n",
        "and computes the sum of the integer Unicode code point value.\n",
        "\n",
        "Hint: use ord('A') to compute the integer Unicode code point value\n",
        "\n",
        "Also please include a simple test case of the function\n"
      ]
    },
    {
      "cell_type": "code",
      "execution_count": null,
      "metadata": {},
      "outputs": [],
      "source": []
    },
    {
      "cell_type": "markdown",
      "metadata": {},
      "source": [
        "### Question\n",
        "Define a class which has at least two methods:\n",
        "- print_string: to print the string in upper case.\n",
        "- modify_string: modify the string\n",
        "Please include a simple test function to test the class methods.\n",
        "\n",
        "Hints: Use the `__init__` method to construct some parameters"
      ]
    },
    {
      "cell_type": "code",
      "execution_count": null,
      "metadata": {},
      "outputs": [],
      "source": []
    }
  ],
  "metadata": {
    "kernelspec": {
      "display_name": "Python 3",
      "language": "python",
      "name": "python3"
    },
    "language_info": {
      "codemirror_mode": {
        "name": "ipython",
        "version": 3
      },
      "file_extension": ".py",
      "mimetype": "text/x-python",
      "name": "python",
      "nbconvert_exporter": "python",
      "pygments_lexer": "ipython3",
      "version": "3.10.12"
    }
  },
  "nbformat": 4,
  "nbformat_minor": 2
}
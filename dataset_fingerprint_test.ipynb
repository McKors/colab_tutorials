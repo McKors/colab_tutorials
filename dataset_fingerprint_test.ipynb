{
 "cells": [
  {
   "cell_type": "code",
   "execution_count": 1,
   "metadata": {},
   "outputs": [
    {
     "name": "stdout",
     "output_type": "stream",
     "text": [
      "      time/h           polymer  enzyme  crystallinity xc\n",
      "0          0       [*]CC([*])C  PETase         44.470000\n",
      "1         24       [*]CC([*])C  PETase         45.208088\n",
      "2         48       [*]CC([*])C  PETase         46.242378\n",
      "3         72       [*]CC([*])C  PETase         46.837852\n",
      "4         96       [*]CC([*])C  PETase         49.167938\n",
      "...      ...               ...     ...               ...\n",
      "2095     384  [*]CC([*])(C)C#N  Cut190         33.172276\n",
      "2096     408  [*]CC([*])(C)C#N  Cut190         34.653355\n",
      "2097     432  [*]CC([*])(C)C#N  Cut190         35.451463\n",
      "2098     456  [*]CC([*])(C)C#N  Cut190         36.308215\n",
      "2099     480  [*]CC([*])(C)C#N  Cut190         38.534018\n",
      "\n",
      "[2100 rows x 4 columns]\n"
     ]
    }
   ],
   "source": [
    "import itertools\n",
    "import pandas as pd\n",
    "import random\n",
    "\n",
    "polymers = [\"[*]CC([*])C\", \"[*]CC([*])CC\",\"[*]CC([*])CCC\",\"[*]CC([*])CC(C)C\",\"[*]CCCCCCCC([*])C\",\"[*]CC([*])O\",\"[*]CC([*])OC(=O)CCCCCCCCCCC\",\"[*]CC([*])OC(=O)CCCCCCCCCCCCCCC\",\"[*]CC([*])OC(=O)CCCCCCCCCCCCCCCCC\",\"[*]CC([*])(C)C#N\"]\n",
    "enzymes = [\"PETase\", \"LCC\", \"TfH\",\"ThC_Cut1\",\"ThC_Cut2\",\"HiC\",\"FsC\",\"PET2\",\"PET5\",\"Cut190\"]\n",
    "\n",
    "# https://docs.python.org/3/library/itertools.html\n",
    "\n",
    "pr = itertools.product(polymers, enzymes)\n",
    "xc = [44.47, 34.04, 20.01, 21.64, 31.47, 39.089205, 12.02, 33.35, 37.02, 8.0]\n",
    "my_list = []\n",
    "\n",
    "for pol, enz in pr:\n",
    "    xc_value = xc[polymers.index(pol)]  # Get the initial xc value for the corresponding polymer\n",
    "    for time in range(0, 500, 24):\n",
    "        if time != 0:\n",
    "            xc_value += random.uniform(0.5, 2.5)  # Increase xc with a random int between 2 and 5\n",
    "        my_list.append({\"time/h\": time, \"polymer\": pol, \"enzyme\": enz, \"crystallinity xc\": xc_value})\n",
    "df = pd.DataFrame(my_list)\n",
    "\n",
    "df.to_pickle('my_dataset.pkl')\n",
    "\n",
    "print(df)   "
   ]
  },
  {
   "cell_type": "code",
   "execution_count": 3,
   "metadata": {},
   "outputs": [
    {
     "name": "stdout",
     "output_type": "stream",
     "text": [
      "Defaulting to user installation because normal site-packages is not writeable\n",
      "Collecting rdkit-pypi\n",
      "  Downloading rdkit_pypi-2022.9.5-cp310-cp310-manylinux_2_17_x86_64.manylinux2014_x86_64.whl (29.4 MB)\n",
      "\u001b[2K     \u001b[90m━━━━━━━━━━━━━━━━━━━━━━━━━━━━━━━━━━━━━━━━\u001b[0m \u001b[32m29.4/29.4 MB\u001b[0m \u001b[31m24.3 MB/s\u001b[0m eta \u001b[36m0:00:00\u001b[0m00:01\u001b[0m00:01\u001b[0m\n",
      "\u001b[?25hRequirement already satisfied: numpy in /usr/local/lib/python3.10/dist-packages (from rdkit-pypi) (1.26.1)\n",
      "Requirement already satisfied: Pillow in /usr/local/lib/python3.10/dist-packages (from rdkit-pypi) (10.1.0)\n",
      "Installing collected packages: rdkit-pypi\n",
      "Successfully installed rdkit-pypi-2022.9.5\n"
     ]
    }
   ],
   "source": [
    "!pip install rdkit-pypi"
   ]
  },
  {
   "cell_type": "code",
   "execution_count": 4,
   "metadata": {},
   "outputs": [],
   "source": [
    "from rdkit import Chem\n",
    "from rdkit.Chem import AllChem\n",
    "import pandas as pd"
   ]
  },
  {
   "cell_type": "code",
   "execution_count": 9,
   "metadata": {},
   "outputs": [
    {
     "name": "stdout",
     "output_type": "stream",
     "text": [
      "                      polymer_smiles  \\\n",
      "0                        [*]CC([*])C   \n",
      "1                       [*]CC([*])CC   \n",
      "2                      [*]CC([*])CCC   \n",
      "3                   [*]CC([*])CC(C)C   \n",
      "4                  [*]CCCCCCCC([*])C   \n",
      "5                        [*]CC([*])O   \n",
      "6        [*]CC([*])OC(=O)CCCCCCCCCCC   \n",
      "7    [*]CC([*])OC(=O)CCCCCCCCCCCCCCC   \n",
      "8  [*]CC([*])OC(=O)CCCCCCCCCCCCCCCCC   \n",
      "9                   [*]CC([*])(C)C#N   \n",
      "\n",
      "                                         fingerprint  \n",
      "0  0100000000000000000000000000000000000000000000...  \n",
      "1  1100000000000000000000000000000000000000000000...  \n",
      "2  0100000000000000000000000000000000000000000000...  \n",
      "3  0100000000000000000000000000000000000000000000...  \n",
      "4  0100000000000000000000000000000000000000000000...  \n",
      "5  0100000000000000000000000000000000000000000000...  \n",
      "6  0100000000000000000000000000000000000000000000...  \n",
      "7  0100000000000000000000000000000000000000000000...  \n",
      "8  0100000000000000000000000000000000000000000000...  \n",
      "9  0000000000000000000000000000000000000000000000...  \n"
     ]
    }
   ],
   "source": [
    "data = {\n",
    "    'polymer_smiles': [\"[*]CC([*])C\", \"[*]CC([*])CC\",\"[*]CC([*])CCC\",\"[*]CC([*])CC(C)C\",\"[*]CCCCCCCC([*])C\",\"[*]CC([*])O\",\"[*]CC([*])OC(=O)CCCCCCCCCCC\",\"[*]CC([*])OC(=O)CCCCCCCCCCCCCCC\",\"[*]CC([*])OC(=O)CCCCCCCCCCCCCCCCC\",\"[*]CC([*])(C)C#N\"]\n",
    "}\n",
    "\n",
    "df_polymer = pd.DataFrame(data)\n",
    "\n",
    "# Function to generate Morgan fingerprints from SMILES\n",
    "def generate_fingerprint(smiles):\n",
    "    mol = Chem.MolFromSmiles(smiles)\n",
    "    if mol:\n",
    "        fingerprint = AllChem.GetMorganFingerprintAsBitVect(mol, 2).ToBitString()\n",
    "        return fingerprint\n",
    "    else:\n",
    "        return None\n",
    "\n",
    "# Apply the function to the 'polymer_smiles' column\n",
    "df_polymer['fingerprint'] = df['polymer_smiles'].apply(generate_fingerprint)\n",
    "\n",
    "# Display the DataFrame with fingerprints\n",
    "print(df_polymer)"
   ]
  },
  {
   "cell_type": "code",
   "execution_count": 6,
   "metadata": {},
   "outputs": [
    {
     "name": "stdout",
     "output_type": "stream",
     "text": [
      "Defaulting to user installation because normal site-packages is not writeable\n",
      "Collecting biopython\n",
      "  Downloading biopython-1.81-cp310-cp310-manylinux_2_17_x86_64.manylinux2014_x86_64.whl (3.1 MB)\n",
      "\u001b[2K     \u001b[90m━━━━━━━━━━━━━━━━━━━━━━━━━━━━━━━━━━━━━━━━\u001b[0m \u001b[32m3.1/3.1 MB\u001b[0m \u001b[31m17.7 MB/s\u001b[0m eta \u001b[36m0:00:00\u001b[0ma \u001b[36m0:00:01\u001b[0m\n",
      "\u001b[?25hRequirement already satisfied: numpy in /usr/local/lib/python3.10/dist-packages (from biopython) (1.26.1)\n",
      "Installing collected packages: biopython\n",
      "Successfully installed biopython-1.81\n",
      "Note: you may need to restart the kernel to use updated packages.\n"
     ]
    }
   ],
   "source": [
    "pip install biopython"
   ]
  },
  {
   "cell_type": "code",
   "execution_count": 7,
   "metadata": {},
   "outputs": [
    {
     "name": "stdout",
     "output_type": "stream",
     "text": [
      "  enzyme_name                                        fingerprint\n",
      "0      PETase  [0.18518518518518517, 0.07407407407407407, 0.0...\n",
      "1         LCC  [0.19444444444444445, 0.027777777777777776, 0....\n",
      "2         TfH  [0.14814814814814814, 0.037037037037037035, 0....\n",
      "3    ThC_Cut1  [0.11764705882352941, 0.0196078431372549, 0.11...\n",
      "4    ThC_Cut2  [0.11764705882352941, 0.0196078431372549, 0.11...\n",
      "5         HiC  [0.11904761904761904, 0.023809523809523808, 0....\n",
      "6         FsC  [0.03125, 0.03125, 0.0625, 0.15625, 0.15625, 0...\n",
      "7        PET2  [0.025, 0.025, 0.05, 0.075, 0.025, 0.075, 0.1,...\n",
      "8        PET5  [0.02631578947368421, 0.05263157894736842, 0.1...\n",
      "9      Cut190  [0.06, 0.1, 0.06, 0.06, 0.02, 0.12, 0.1, 0.06,...\n"
     ]
    }
   ],
   "source": [
    "data = {\n",
    "    'enzyme_name': ['PETase', 'LCC', 'TfH', 'ThC_Cut1', 'ThC_Cut2', 'HiC', 'FsC', 'PET2', 'PET5', 'Cut190'],\n",
    "    'enzyme_sequence': [\n",
    "        'MKKVFAVTTVVLSVAGVVSAAAEVPEV',\n",
    "        'MGGGFGLLLGILAGVAAGCVFSYFAATKPSPLAAGF',\n",
    "        'MAHFKSPAKPVTYPQVAQNYNVLHAWM',\n",
    "        'MKKTSLLLVATLVSLSASAGVSKKTLGKTLKSLLVFLLLSLGGVSALGGAA',\n",
    "        'MKKTSLLLVATLVSLSASAGVSKKTLGKTLKSLLVFLLLSLGGVSALGGAA',\n",
    "        'MKLFVALVLTIVIASTHGRTIAAAEMNKRRKSNKRKTRVHQR',\n",
    "        'MSTGTFSMILVVLSVAGIFGIEYKLGIRVGLI',\n",
    "        'MKKITFILVLLLSCISGKNSSSNSYAGTTFLHKRQVLTGR',\n",
    "        'MKIKIFFLVMIFVLCISYNFISFFNSTIEMHETYSKSG',\n",
    "        'MKTIVFLAIIFTSSSIVTGGAHSLSKKIEIEEGSETRWVVEYKAQMKFLP'\n",
    "    ]\n",
    "}\n",
    "\n",
    "df_enzymes = pd.DataFrame(data)\n",
    "\n",
    "# Function to generate enzyme fingerprints\n",
    "def generate_enzyme_fingerprint(sequence):\n",
    "    # Calculate amino acid composition\n",
    "    amino_acid_composition = {aa: sequence.count(aa) / len(sequence) for aa in set(sequence)}\n",
    "    \n",
    "    # Sort amino acids to ensure consistent order\n",
    "    sorted_aa = sorted(amino_acid_composition.keys())\n",
    "    \n",
    "    # Create a fingerprint as a list of amino acid frequencies\n",
    "    fingerprint = [amino_acid_composition[aa] for aa in sorted_aa]\n",
    "    \n",
    "    return fingerprint\n",
    "\n",
    "# Apply the function to the 'enzyme_sequence' column\n",
    "df_enzymes['fingerprint'] = df_enzymes['enzyme_sequence'].apply(generate_enzyme_fingerprint)\n",
    "\n",
    "# Display the DataFrame with enzyme fingerprints\n",
    "print(df_enzymes[['enzyme_name', 'fingerprint']])"
   ]
  },
  {
   "cell_type": "code",
   "execution_count": 1,
   "metadata": {},
   "outputs": [
    {
     "data": {
      "text/plain": [
       "'hello world'"
      ]
     },
     "execution_count": 1,
     "metadata": {},
     "output_type": "execute_result"
    }
   ],
   "source": [
    "'hello world'"
   ]
  },
  {
   "cell_type": "code",
   "execution_count": null,
   "metadata": {},
   "outputs": [],
   "source": []
  }
 ],
 "metadata": {
  "kernelspec": {
   "display_name": "Python 3",
   "language": "python",
   "name": "python3"
  },
  "language_info": {
   "codemirror_mode": {
    "name": "ipython",
    "version": 3
   },
   "file_extension": ".py",
   "mimetype": "text/x-python",
   "name": "python",
   "nbconvert_exporter": "python",
   "pygments_lexer": "ipython3",
   "version": "3.10.12"
  }
 },
 "nbformat": 4,
 "nbformat_minor": 2
}

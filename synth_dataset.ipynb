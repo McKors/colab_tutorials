{
 "cells": [
  {
   "cell_type": "code",
   "execution_count": 2,
   "metadata": {},
   "outputs": [
    {
     "name": "stdout",
     "output_type": "stream",
     "text": [
      "      time/h           polymer  enzyme  crystallinity xc\n",
      "0          0       [*]CC([*])C  PETase         44.470000\n",
      "1         24       [*]CC([*])C  PETase         45.114749\n",
      "2         48       [*]CC([*])C  PETase         47.248161\n",
      "3         72       [*]CC([*])C  PETase         47.882490\n",
      "4         96       [*]CC([*])C  PETase         50.248879\n",
      "...      ...               ...     ...               ...\n",
      "2095     384  [*]CC([*])(C)C#N  Cut190         26.954689\n",
      "2096     408  [*]CC([*])(C)C#N  Cut190         27.679103\n",
      "2097     432  [*]CC([*])(C)C#N  Cut190         29.498161\n",
      "2098     456  [*]CC([*])(C)C#N  Cut190         31.134381\n",
      "2099     480  [*]CC([*])(C)C#N  Cut190         31.845502\n",
      "\n",
      "[2100 rows x 4 columns]\n"
     ]
    }
   ],
   "source": [
    "import itertools\n",
    "import pandas as df\n",
    "import random\n",
    "\n",
    "polymers = [\"[*]CC([*])C\", \"[*]CC([*])CC\",\"[*]CC([*])CCC\",\"[*]CC([*])CC(C)C\",\"[*]CCCCCCCC([*])C\",\"[*]CC([*])O\",\"[*]CC([*])OC(=O)CCCCCCCCCCC\",\"[*]CC([*])OC(=O)CCCCCCCCCCCCCCC\",\"[*]CC([*])OC(=O)CCCCCCCCCCCCCCCCC\",\"[*]CC([*])(C)C#N\"]\n",
    "enzymes = [\"PETase\", \"LCC\", \"TfH\",\"ThC_Cut1\",\"ThC_Cut2\",\"HiC\",\"FsC\",\"PET2\",\"PET5\",\"Cut190\"]\n",
    "\n",
    "# https://docs.python.org/3/library/itertools.html\n",
    "\n",
    "pr = itertools.product(polymers, enzymes)\n",
    "xc = [44.47, 34.04, 20.01, 21.64, 31.47, 39.089205, 12.02, 33.35, 37.02, 8.0]\n",
    "my_list = []\n",
    "\n",
    "for pol, enz in pr:\n",
    "    xc_value = xc[polymers.index(pol)]  # Get the initial xc value for the corresponding polymer\n",
    "    for time in range(0, 500, 24):\n",
    "        if time != 0:\n",
    "            xc_value += random.uniform(0.5, 2.5)  # Increase xc with a random int between 2 and 5\n",
    "        my_list.append({\"time/h\": time, \"polymer\": pol, \"enzyme\": enz, \"crystallinity xc\": xc_value})\n",
    "my_list = df.DataFrame(my_list)\n",
    "print(my_list)   "
   ]
  },
  {
   "cell_type": "code",
   "execution_count": null,
   "metadata": {},
   "outputs": [],
   "source": []
  }
 ],
 "metadata": {
  "kernelspec": {
   "display_name": "Python 3",
   "language": "python",
   "name": "python3"
  },
  "language_info": {
   "codemirror_mode": {
    "name": "ipython",
    "version": 3
   },
   "file_extension": ".py",
   "mimetype": "text/x-python",
   "name": "python",
   "nbconvert_exporter": "python",
   "pygments_lexer": "ipython3",
   "version": "3.10.12"
  }
 },
 "nbformat": 4,
 "nbformat_minor": 2
}

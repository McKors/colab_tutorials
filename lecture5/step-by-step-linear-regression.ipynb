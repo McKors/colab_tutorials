{
 "cells": [
  {
   "cell_type": "markdown",
   "metadata": {},
   "source": [
    "# Step-by-step to your first linear regression model\n",
    "\n",
    "1. We download data 🗂\n",
    "2. We talk the math\n",
    "3. Define and compute the loss function\n",
    "4. Optimize parameters by computing the gradient\n",
    "5. Change parameters in a loop according to the gradients\n",
    "6. Validate :)\n",
    "\n",
    "We use JAX in this tutorial `pip install jax`"
   ]
  },
  {
   "cell_type": "markdown",
   "metadata": {},
   "source": [
    "### 1. Get data (you know)\n",
    "\n",
    "- We use pandas and load the tendency to crystallize of polymers dataset from GitHub lecture 2\n",
    "- Out model should learn how to compute the tendency to crystallize (`value`) from the fingerprints\n"
   ]
  },
  {
   "cell_type": "code",
   "execution_count": 27,
   "metadata": {},
   "outputs": [
    {
     "data": {
      "text/html": [
       "<div>\n",
       "<style scoped>\n",
       "    .dataframe tbody tr th:only-of-type {\n",
       "        vertical-align: middle;\n",
       "    }\n",
       "\n",
       "    .dataframe tbody tr th {\n",
       "        vertical-align: top;\n",
       "    }\n",
       "\n",
       "    .dataframe thead th {\n",
       "        text-align: right;\n",
       "    }\n",
       "</style>\n",
       "<table border=\"1\" class=\"dataframe\">\n",
       "  <thead>\n",
       "    <tr style=\"text-align: right;\">\n",
       "      <th></th>\n",
       "      <th>smiles</th>\n",
       "      <th>property</th>\n",
       "      <th>value</th>\n",
       "      <th>fingerprint</th>\n",
       "    </tr>\n",
       "  </thead>\n",
       "  <tbody>\n",
       "    <tr>\n",
       "      <th>0</th>\n",
       "      <td>[*]C[*]</td>\n",
       "      <td>Xc</td>\n",
       "      <td>47.80</td>\n",
       "      <td>[0, 0, 0, 0, 0, 0, 0, 0, 0, 0, 0, 0, 0, 0, 0, ...</td>\n",
       "    </tr>\n",
       "    <tr>\n",
       "      <th>1</th>\n",
       "      <td>[*]CC([*])C</td>\n",
       "      <td>Xc</td>\n",
       "      <td>44.47</td>\n",
       "      <td>[0, 1, 0, 0, 0, 0, 0, 0, 0, 0, 0, 0, 0, 0, 0, ...</td>\n",
       "    </tr>\n",
       "    <tr>\n",
       "      <th>2</th>\n",
       "      <td>[*]CC([*])CC</td>\n",
       "      <td>Xc</td>\n",
       "      <td>34.04</td>\n",
       "      <td>[1, 1, 0, 0, 0, 0, 0, 0, 0, 0, 0, 0, 0, 0, 0, ...</td>\n",
       "    </tr>\n",
       "    <tr>\n",
       "      <th>3</th>\n",
       "      <td>[*]CC([*])CCC</td>\n",
       "      <td>Xc</td>\n",
       "      <td>20.01</td>\n",
       "      <td>[0, 1, 0, 0, 0, 0, 0, 0, 0, 0, 0, 0, 0, 0, 0, ...</td>\n",
       "    </tr>\n",
       "    <tr>\n",
       "      <th>4</th>\n",
       "      <td>[*]CC([*])CC(C)C</td>\n",
       "      <td>Xc</td>\n",
       "      <td>21.64</td>\n",
       "      <td>[0, 2, 0, 0, 0, 0, 0, 0, 0, 0, 0, 0, 0, 0, 0, ...</td>\n",
       "    </tr>\n",
       "    <tr>\n",
       "      <th>...</th>\n",
       "      <td>...</td>\n",
       "      <td>...</td>\n",
       "      <td>...</td>\n",
       "      <td>...</td>\n",
       "    </tr>\n",
       "    <tr>\n",
       "      <th>427</th>\n",
       "      <td>[*]C([*])(F)F</td>\n",
       "      <td>Xc</td>\n",
       "      <td>31.84</td>\n",
       "      <td>[0, 0, 0, 0, 0, 0, 0, 0, 0, 0, 0, 0, 0, 0, 0, ...</td>\n",
       "    </tr>\n",
       "    <tr>\n",
       "      <th>428</th>\n",
       "      <td>[*]C/C=C\\C[*]</td>\n",
       "      <td>Xc</td>\n",
       "      <td>25.58</td>\n",
       "      <td>[0, 0, 0, 0, 0, 0, 0, 0, 0, 0, 0, 0, 0, 0, 0, ...</td>\n",
       "    </tr>\n",
       "    <tr>\n",
       "      <th>429</th>\n",
       "      <td>[*]O[Si](C)(C)CCCC(=O)Oc1ccc(C=Nc2ccc(N=Cc3ccc...</td>\n",
       "      <td>Xc</td>\n",
       "      <td>29.05</td>\n",
       "      <td>[0, 0, 0, 0, 0, 0, 0, 0, 0, 0, 0, 0, 0, 0, 1, ...</td>\n",
       "    </tr>\n",
       "    <tr>\n",
       "      <th>430</th>\n",
       "      <td>[*]O[Si](C)(C)CCCC(=O)Oc1ccc(C=Nc2ccc(Cc3ccc(N...</td>\n",
       "      <td>Xc</td>\n",
       "      <td>21.74</td>\n",
       "      <td>[0, 0, 0, 0, 0, 0, 0, 0, 0, 0, 0, 0, 0, 0, 1, ...</td>\n",
       "    </tr>\n",
       "    <tr>\n",
       "      <th>431</th>\n",
       "      <td>[*]CCN(CCCCCCOc1ccc(C=Cc2ccc([N+](=O)[O-])cc2)...</td>\n",
       "      <td>Xc</td>\n",
       "      <td>7.55</td>\n",
       "      <td>[0, 0, 0, 0, 0, 0, 0, 0, 0, 0, 0, 0, 0, 3, 0, ...</td>\n",
       "    </tr>\n",
       "  </tbody>\n",
       "</table>\n",
       "<p>432 rows × 4 columns</p>\n",
       "</div>"
      ],
      "text/plain": [
       "                                                smiles property  value   \n",
       "0                                              [*]C[*]       Xc  47.80  \\\n",
       "1                                          [*]CC([*])C       Xc  44.47   \n",
       "2                                         [*]CC([*])CC       Xc  34.04   \n",
       "3                                        [*]CC([*])CCC       Xc  20.01   \n",
       "4                                     [*]CC([*])CC(C)C       Xc  21.64   \n",
       "..                                                 ...      ...    ...   \n",
       "427                                      [*]C([*])(F)F       Xc  31.84   \n",
       "428                                      [*]C/C=C\\C[*]       Xc  25.58   \n",
       "429  [*]O[Si](C)(C)CCCC(=O)Oc1ccc(C=Nc2ccc(N=Cc3ccc...       Xc  29.05   \n",
       "430  [*]O[Si](C)(C)CCCC(=O)Oc1ccc(C=Nc2ccc(Cc3ccc(N...       Xc  21.74   \n",
       "431  [*]CCN(CCCCCCOc1ccc(C=Cc2ccc([N+](=O)[O-])cc2)...       Xc   7.55   \n",
       "\n",
       "                                           fingerprint  \n",
       "0    [0, 0, 0, 0, 0, 0, 0, 0, 0, 0, 0, 0, 0, 0, 0, ...  \n",
       "1    [0, 1, 0, 0, 0, 0, 0, 0, 0, 0, 0, 0, 0, 0, 0, ...  \n",
       "2    [1, 1, 0, 0, 0, 0, 0, 0, 0, 0, 0, 0, 0, 0, 0, ...  \n",
       "3    [0, 1, 0, 0, 0, 0, 0, 0, 0, 0, 0, 0, 0, 0, 0, ...  \n",
       "4    [0, 2, 0, 0, 0, 0, 0, 0, 0, 0, 0, 0, 0, 0, 0, ...  \n",
       "..                                                 ...  \n",
       "427  [0, 0, 0, 0, 0, 0, 0, 0, 0, 0, 0, 0, 0, 0, 0, ...  \n",
       "428  [0, 0, 0, 0, 0, 0, 0, 0, 0, 0, 0, 0, 0, 0, 0, ...  \n",
       "429  [0, 0, 0, 0, 0, 0, 0, 0, 0, 0, 0, 0, 0, 0, 1, ...  \n",
       "430  [0, 0, 0, 0, 0, 0, 0, 0, 0, 0, 0, 0, 0, 0, 1, ...  \n",
       "431  [0, 0, 0, 0, 0, 0, 0, 0, 0, 0, 0, 0, 0, 3, 0, ...  \n",
       "\n",
       "[432 rows x 4 columns]"
      ]
     },
     "execution_count": 27,
     "metadata": {},
     "output_type": "execute_result"
    }
   ],
   "source": [
    "import pandas as pd\n",
    "\n",
    "df = pd.read_json(\n",
    "    \"https://raw.githubusercontent.com/kuennethgroup/colab_tutorials/main/lecture2/data/polymers_tend_to_crystalize.json\"\n",
    ")\n",
    "df"
   ]
  },
  {
   "cell_type": "markdown",
   "metadata": {},
   "source": [
    "### 2. Math and model\n",
    "\n",
    "Our model is defined as\n",
    "\n",
    "$$\n",
    "X = \\sum \\left(\\mathbf{w} \\vec{f} + \\vec{b}\\right)\n",
    "$$\n",
    "\n",
    "\n",
    "$\\mathbf{w}$ ... a matrix (2d array) of adjustable parameters (weights)\n",
    "\n",
    "$\\vec{b}$ ... a vector of adjustable parameters (bias)\n",
    "\n",
    "$\\vec{f}$ ... fingerprint, feature, descriptor, or input vector\n",
    "\n",
    "$X$ ... output vector, prediction, here tendency to crystalize of polymers\n",
    "\n",
    "*Note*: Because the tendency to crystallize is a scalar, we use the sum as \"pooling\" operation at \n"
   ]
  },
  {
   "cell_type": "code",
   "execution_count": 28,
   "metadata": {},
   "outputs": [
    {
     "name": "stdout",
     "output_type": "stream",
     "text": [
      "f = Array([0.77132064, 0.02075195, 0.6336482 ], dtype=float32)\n",
      "w = Array([[0.74880385, 0.49850702, 0.22479665]], dtype=float32)\n",
      "b = Array([0.19806287, 0.7605307 , 0.16911083], dtype=float32)\n"
     ]
    },
    {
     "data": {
      "text/plain": [
       "Array(3.318769, dtype=float32)"
      ]
     },
     "execution_count": 28,
     "metadata": {},
     "output_type": "execute_result"
    }
   ],
   "source": [
    "# !pip install -U \"jax[cpu]\"\n",
    "import jax.numpy as jnp\n",
    "import numpy as np\n",
    "\n",
    "np.random.seed(10)\n",
    "\n",
    "\n",
    "def simple_model(f, w, b):\n",
    "    return jnp.sum(jnp.dot(w, f) + b)\n",
    "\n",
    "\n",
    "# Let's test it\n",
    "f = jnp.array(np.random.rand(3))\n",
    "print(f\"{f = }\")\n",
    "w = jnp.array(np.random.rand(1, 3))\n",
    "print(f\"{w = }\")\n",
    "b = jnp.array(np.random.rand(3))\n",
    "print(f\"{b = }\")\n",
    "\n",
    "simple_model(f, w, b)"
   ]
  },
  {
   "cell_type": "markdown",
   "metadata": {},
   "source": [
    "### 3. Compute the loss for one data point\n",
    "\n",
    "We use the mean squared error (MSE) for this \n",
    "$$\n",
    "\\text{MSE} = L = \\frac{1}{N} \\sum_i^N \\left( y_i - \\hat{y}_i\\right)^2\n",
    "$$\n",
    "$y_i$ are the true values; $\\hat{y}_i$ are the predictions;\n",
    "\n",
    "In our case\n",
    "$$\n",
    "\\text{MSE} = L = \\frac{1}{N} \\sum_i^N \\left( X_i - m(f_i,\\mathbf{w}, \\vec{b})\\right)^2\n",
    "$$"
   ]
  },
  {
   "cell_type": "code",
   "execution_count": 29,
   "metadata": {},
   "outputs": [
    {
     "data": {
      "text/plain": [
       "Array(2041.3823, dtype=float32)"
      ]
     },
     "execution_count": 29,
     "metadata": {},
     "output_type": "execute_result"
    }
   ],
   "source": [
    "# Get the one fingerprint and test our model\n",
    "xc_array = jnp.array(df[\"value\"].values)\n",
    "f_array = jnp.array(np.vstack(df[\"fingerprint\"].values))\n",
    "\n",
    "# Initialize w and b randomly\n",
    "# randn draws values from a standard normal distribution\n",
    "extra_dim = 1\n",
    "w = jnp.array(np.random.randn(extra_dim, f_array.shape[1]))\n",
    "b = jnp.array(np.random.randn(extra_dim))\n",
    "\n",
    "\n",
    "# Get the prediction\n",
    "xc_predict = simple_model(f_array[0], w, b)\n",
    "\n",
    "\n",
    "# We need a loss function that tells us how good or bad our model is\n",
    "def loss(xc_truth, xc_predict):\n",
    "    return jnp.mean((xc_truth - xc_predict) ** 2)\n",
    "\n",
    "\n",
    "# Compute the loss\n",
    "loss(xc_array[0], xc_predict)"
   ]
  },
  {
   "cell_type": "markdown",
   "metadata": {},
   "source": [
    "### 4. Optimize $\\mathbf{w}$ and $\\vec{b}$ by gradients\n",
    "\n",
    "Optimize by computing the derivatives of $L$ with respect to $\\mathbf{w}$ and $\\vec{b}$.\n",
    "$$\n",
    "\\frac{\\partial L} {\\partial w_{ij}}, \\frac{\\partial L} {\\partial b_i},\n",
    "$$\n",
    "\n",
    "and reducing the loss by taking a step in the negative gradient direction\n",
    "$$\n",
    "w_{ij}' = w_{ij} - \\eta \\frac{\\partial L} {\\partial w_{ij}},\n",
    "$$\n",
    "and\n",
    "$$\n",
    "b_i' = b_i - \\eta \\frac{\\partial L} {\\partial b_i},\n",
    "$$\n",
    "\n",
    "$\\eta$ is the learning rate."
   ]
  },
  {
   "cell_type": "code",
   "execution_count": 30,
   "metadata": {},
   "outputs": [
    {
     "name": "stdout",
     "output_type": "stream",
     "text": [
      "grads_w = Array([[-0., -0., -0., ..., -0., -0., -0.]], dtype=float32)\n",
      "grads_w.sum() = Array(-542.17993, dtype=float32)\n",
      "grads_b = Array([-90.36332], dtype=float32)\n",
      "grads_b.sum() = Array(-90.36332, dtype=float32)\n"
     ]
    }
   ],
   "source": [
    "import jax\n",
    "\n",
    "\n",
    "# Wrapper\n",
    "def predict_and_loss_wrapper(w, b, xc, f):\n",
    "    xc_predict = simple_model(f, w, b)\n",
    "    return loss(xc, xc_predict)\n",
    "\n",
    "\n",
    "# Build the gradient function with JAX of prediction and loss\n",
    "grad_func = jax.grad(predict_and_loss_wrapper, (0, 1))\n",
    "\n",
    "\n",
    "# Test\n",
    "grads_w, grads_b = grad_func(w, b, xc_array[0], f_array[0])\n",
    "print(f\"{grads_w = }\")\n",
    "print(f\"{grads_w.sum() = }\")\n",
    "print(f\"{grads_b = }\")\n",
    "print(f\"{grads_b.sum() = }\")"
   ]
  },
  {
   "cell_type": "markdown",
   "metadata": {},
   "source": [
    "### 5. Iteratively optimize $\\mathbf{w}$ and $\\vec{b}$\n",
    "\n",
    "\n",
    "In neural networks, this is called back-propagation\n"
   ]
  },
  {
   "cell_type": "code",
   "execution_count": 36,
   "metadata": {},
   "outputs": [
    {
     "data": {
      "text/plain": [
       "Text(0, 0.5, 'MSE loss')"
      ]
     },
     "execution_count": 36,
     "metadata": {},
     "output_type": "execute_result"
    },
    {
     "data": {
      "image/png": "[encoded data removed]",
      "text/plain": [
       "<Figure size 640x480 with 1 Axes>"
      ]
     },
     "metadata": {},
     "output_type": "display_data"
    }
   ],
   "source": [
    "import matplotlib.pyplot as plt\n",
    "\n",
    "# set seed\n",
    "np.random.seed(10)\n",
    "\n",
    "# get all values from the dataframe\n",
    "xc_array = jnp.array(df[\"value\"].values)\n",
    "f_array = jnp.array(np.vstack(df[\"fingerprint\"].values))\n",
    "\n",
    "# Initialize w and b randomly\n",
    "extra_dim = 10\n",
    "w = jnp.array(np.random.randn(extra_dim, f_array.shape[1]))\n",
    "b = jnp.array(np.random.randn(extra_dim))\n",
    "\n",
    "# Save this for later\n",
    "b_init = b.copy()\n",
    "w_init = w.copy()\n",
    "\n",
    "\n",
    "eta = 1e-4  # learning rate \n",
    "losses = []\n",
    "for i in range(100):\n",
    "    grads_w, grads_b = grad_func(w, b, xc_array[0], f_array[0])\n",
    "    w -= eta * grads_w\n",
    "    b -= eta * grads_b\n",
    "    my_loss = predict_and_loss_wrapper(w, b, xc_array[0], f_array[0])\n",
    "    losses.append(my_loss)\n",
    "\n",
    "plt.plot(losses)\n",
    "plt.xlabel(\"Iterations\")\n",
    "plt.ylabel(\"MSE loss\")"
   ]
  },
  {
   "cell_type": "markdown",
   "metadata": {},
   "source": [
    "### 6. Validate"
   ]
  },
  {
   "cell_type": "code",
   "execution_count": 55,
   "metadata": {},
   "outputs": [
    {
     "name": "stdout",
     "output_type": "stream",
     "text": [
      "Init   simple_model(f_array[0], w_init, b_init).tolist() = -11.005064964294434  \n",
      "Optim  simple_model(f_array[0], w, b).tolist() = 41.442298889160156  \n",
      "Truth  xc_array[0] = Array(47.8, dtype=float32)\n"
     ]
    }
   ],
   "source": [
    "# Test with w and b\n",
    "print(\n",
    "    f\"Init   {simple_model(f_array[0], w_init, b_init).tolist() = }  \\n\"\n",
    "    f\"Optim  {simple_model(f_array[0], w, b).tolist() = }  \\n\"\n",
    "    f\"Truth  {xc_array[0] = }\"\n",
    ")"
   ]
  },
  {
   "cell_type": "markdown",
   "metadata": {},
   "source": [
    "### "
   ]
  }
 ],
 "metadata": {
  "kernelspec": {
   "display_name": "Python 3",
   "language": "python",
   "name": "python3"
  },
  "language_info": {
   "codemirror_mode": {
    "name": "ipython",
    "version": 3
   },
   "file_extension": ".py",
   "mimetype": "text/x-python",
   "name": "python",
   "nbconvert_exporter": "python",
   "pygments_lexer": "ipython3",
   "version": "3.10.12"
  }
 },
 "nbformat": 4,
 "nbformat_minor": 2
}
